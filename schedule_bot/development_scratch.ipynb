{
 "cells": [
  {
   "cell_type": "markdown",
   "id": "cfa0e983",
   "metadata": {},
   "source": [
    "# Development Scratch\n",
    "\n",
    "This notebook contains ideas/scratch/notes for development"
   ]
  },
  {
   "cell_type": "code",
   "execution_count": 1,
   "id": "26eace14",
   "metadata": {},
   "outputs": [],
   "source": [
    "import os\n",
    "import sys\n",
    "import django\n",
    "import datetime as datetime\n",
    "import json\n",
    "import pandas as pd\n",
    "import requests\n",
    "\n",
    "from collections import defaultdict\n",
    "from distutils.util import strtobool\n",
    "\n",
    "\n",
    "os.environ[\"DJANGO_ALLOW_ASYNC_UNSAFE\"] = \"true\"\n",
    "os.environ['DJANGO_SETTINGS_MODULE'] = 'schedule_bot.settings'\n",
    "\n",
    "django.setup()\n",
    "\n",
    "from availabilities.models import *\n",
    "from availabilities.utils import check_availabilities\n",
    "from availabilities.utils import get_availabilities_for_participants\n",
    "from events.finite_state_machine import UserEventMachine\n",
    "from events.models import *\n",
    "from communications.models import *\n",
    "from events.utils import get_all_event_participants\n",
    "from events.utils import string_to_date_time, create_event\n",
    "from unittest.mock import Mock"
   ]
  },
  {
   "cell_type": "markdown",
   "id": "c31a796b",
   "metadata": {},
   "source": [
    "## Tests Webhook"
   ]
  },
  {
   "cell_type": "code",
   "execution_count": 2,
   "id": "72368cf7",
   "metadata": {},
   "outputs": [],
   "source": [
    "def send_webhook(user, msg, url):\n",
    "    \"\"\"\n",
    "    \"\"\"\n",
    "    data = {\n",
    "        'From': user,  # Example sender number\n",
    "        'Body': msg,  # Example message body\\\n",
    "    }\n",
    "\n",
    "    # Convert the data to JSON and make the POST request\n",
    "    response = requests.post(\n",
    "        url, \n",
    "        data=json.dumps(data), \n",
    "        headers={'Content-Type': 'application/json'}\n",
    "    )\n",
    "    \n",
    "    return response"
   ]
  },
  {
   "cell_type": "code",
   "execution_count": 3,
   "id": "607e3101",
   "metadata": {},
   "outputs": [],
   "source": [
    "FEB_23_9AM = datetime.datetime(\n",
    "    year=2024, \n",
    "    month=2, \n",
    "    day=3, \n",
    "    hour=9,\n",
    "    tzinfo=datetime.timezone.utc\n",
    ")\n",
    "\n",
    "FEB_23_5PM = datetime.datetime(\n",
    "    year=2024, \n",
    "    month=2, \n",
    "    day=23, \n",
    "    hour=17,\n",
    "    tzinfo=datetime.timezone.utc\n",
    ")\n",
    "\n",
    "FEB_23_2PM = datetime.datetime(\n",
    "    year=2024, \n",
    "    month=2, \n",
    "    day=23, \n",
    "    hour=14,\n",
    "    tzinfo=datetime.timezone.utc\n",
    ")\n",
    "\n",
    "FEB_23_5PM = datetime.datetime(\n",
    "    year=2024, \n",
    "    month=2, \n",
    "    day=23, \n",
    "    hour=17,\n",
    "    tzinfo=datetime.timezone.utc\n",
    ")\n",
    "\n",
    "FEB_24_2PM = datetime.datetime(\n",
    "    year=2024, \n",
    "    month=2, \n",
    "    day=24, \n",
    "    hour=14,\n",
    "    tzinfo=datetime.timezone.utc\n",
    ")\n",
    "\n",
    "FEB_24_5PM = datetime.datetime(\n",
    "    year=2024, \n",
    "    month=2, \n",
    "    day=24, \n",
    "    hour=17,\n",
    "    tzinfo=datetime.timezone.utc\n",
    ")\n",
    "\n",
    "\n",
    "FEB_25_2PM = datetime.datetime(\n",
    "    year=2024, \n",
    "    month=2, \n",
    "    day=25, \n",
    "    hour=14,\n",
    "    tzinfo=datetime.timezone.utc\n",
    ")\n",
    "\n",
    "FEB_25_5PM = datetime.datetime(\n",
    "    year=2024, \n",
    "    month=2, \n",
    "    day=25, \n",
    "    hour=17,\n",
    "    tzinfo=datetime.timezone.utc\n",
    ")"
   ]
  },
  {
   "cell_type": "code",
   "execution_count": 4,
   "id": "726ee487",
   "metadata": {},
   "outputs": [
    {
     "data": {
      "text/plain": [
       "(0, {})"
      ]
     },
     "execution_count": 4,
     "metadata": {},
     "output_type": "execute_result"
    }
   ],
   "source": [
    "# Resets Data for Testing\n",
    "Event.objects.all().delete()\n",
    "UserEvent.objects.all().delete()\n",
    "UserEventTime.objects.all().delete()\n",
    "EventTime.objects.all().delete()\n",
    "SuggestedDate.objects.all().delete()\n",
    "DateAvailability.objects.all().delete()\n",
    "Availability.objects.all().delete()"
   ]
  },
  {
   "cell_type": "code",
   "execution_count": 5,
   "id": "00230a37",
   "metadata": {},
   "outputs": [
    {
     "data": {
      "text/html": [
       "<div>\n",
       "<style scoped>\n",
       "    .dataframe tbody tr th:only-of-type {\n",
       "        vertical-align: middle;\n",
       "    }\n",
       "\n",
       "    .dataframe tbody tr th {\n",
       "        vertical-align: top;\n",
       "    }\n",
       "\n",
       "    .dataframe thead th {\n",
       "        text-align: right;\n",
       "    }\n",
       "</style>\n",
       "<table border=\"1\" class=\"dataframe\">\n",
       "  <thead>\n",
       "    <tr style=\"text-align: right;\">\n",
       "      <th></th>\n",
       "      <th>user__username</th>\n",
       "      <th>event__name</th>\n",
       "      <th>state</th>\n",
       "      <th>is_host</th>\n",
       "      <th>is_required</th>\n",
       "    </tr>\n",
       "  </thead>\n",
       "  <tbody>\n",
       "    <tr>\n",
       "      <th>0</th>\n",
       "      <td>Jessie</td>\n",
       "      <td>RV and Park Day</td>\n",
       "      <td>waiting_for_others</td>\n",
       "      <td>True</td>\n",
       "      <td>True</td>\n",
       "    </tr>\n",
       "    <tr>\n",
       "      <th>1</th>\n",
       "      <td>Andrew</td>\n",
       "      <td>RV and Park Day</td>\n",
       "      <td>no_communication</td>\n",
       "      <td>False</td>\n",
       "      <td>True</td>\n",
       "    </tr>\n",
       "    <tr>\n",
       "      <th>2</th>\n",
       "      <td>Luna</td>\n",
       "      <td>RV and Park Day</td>\n",
       "      <td>no_communication</td>\n",
       "      <td>False</td>\n",
       "      <td>True</td>\n",
       "    </tr>\n",
       "  </tbody>\n",
       "</table>\n",
       "</div>"
      ],
      "text/plain": [
       "  user__username      event__name               state  is_host  is_required\n",
       "0         Jessie  RV and Park Day  waiting_for_others     True         True\n",
       "1         Andrew  RV and Park Day    no_communication    False         True\n",
       "2           Luna  RV and Park Day    no_communication    False         True"
      ]
     },
     "execution_count": 5,
     "metadata": {},
     "output_type": "execute_result"
    }
   ],
   "source": [
    "# Generates test data: Not available 2022/2/3 9-5PM\n",
    "andrew_defaults = {\n",
    "    \"date_time_start\": FEB_23_9AM,\n",
    "    \"date_time_end\": FEB_23_5PM,\n",
    "    \"is_available\": False\n",
    "}\n",
    "\n",
    "jessie_defaults = {\n",
    "    \"date_time_start\": FEB_24_2PM,\n",
    "    \"date_time_end\": FEB_24_5PM,\n",
    "    \"is_available\": False\n",
    "}\n",
    "\n",
    "andrew, __ = User.objects.get_or_create(username=\"Andrew\")\n",
    "jessie, __ = User.objects.get_or_create(username=\"Jessie\")\n",
    "luna, __ = User.objects.get_or_create(username=\"Luna\")\n",
    "\n",
    "UserContactInfo.objects.update_or_create(user=andrew, defaults={\"whatsapp_phone_number\": \"+16047627278\"})\n",
    "UserContactInfo.objects.update_or_create(user=jessie, defaults={\"whatsapp_phone_number\": \"+17783889268\"})\n",
    "UserContactInfo.objects.update_or_create(user=luna, defaults={\"whatsapp_phone_number\": \"+16041234567\"})\n",
    "\n",
    "availability, __ = DateAvailability.objects.update_or_create(\n",
    "    user=andrew,\n",
    "    category=\"hockey_team\",\n",
    "    defaults=andrew_defaults\n",
    ")\n",
    "\n",
    "availability, __ = DateAvailability.objects.update_or_create(\n",
    "    user=jessie,\n",
    "    category=\"social_stuff\",\n",
    "    defaults=jessie_defaults\n",
    ")\n",
    "\n",
    "\n",
    "# Generates proposed times\n",
    "proposed_times = [\n",
    "    (FEB_23_2PM, FEB_23_5PM),\n",
    "    (FEB_24_2PM, FEB_24_5PM),\n",
    "    (FEB_25_2PM, FEB_25_5PM),\n",
    "]\n",
    "\n",
    "# Generates event\n",
    "create_event(\n",
    "    host_user=jessie,\n",
    "    event_name=\"RV and Park Day\",\n",
    "    invitees=[andrew, luna],\n",
    "    proposed_times=proposed_times\n",
    ")\n",
    "\n",
    "event = Event.objects.get(\n",
    "    name=\"RV and Park Day\",\n",
    ")\n",
    "\n",
    "# Peeks\n",
    "event_time_df = pd.DataFrame(UserEvent.objects.filter(event=event).values(\n",
    "    \"user__username\", \n",
    "    \"event__name\",\n",
    "    \"state\",\n",
    "    \"is_host\",\n",
    "    \"is_required\"\n",
    "))\n",
    "event_time_df"
   ]
  },
  {
   "cell_type": "code",
   "execution_count": 7,
   "id": "86c1d5c1",
   "metadata": {},
   "outputs": [
    {
     "name": "stdout",
     "output_type": "stream",
     "text": [
      "Andrew's new state: waiting_response\n"
     ]
    }
   ],
   "source": [
    "# Sends initial text\n",
    "user_event = UserEvent.objects.get(user=andrew, event=event)\n",
    "user_event_machine = UserEventMachine(user_event)\n",
    "user_event_machine.send_initial_text()"
   ]
  },
  {
   "cell_type": "code",
   "execution_count": null,
   "id": "a68ed8ce",
   "metadata": {},
   "outputs": [],
   "source": [
    "# URL of your local Django webhook endpoint\n",
    "url = 'http://127.0.0.1:8000/communications/twilio/webhook'\n",
    "jessie_contact = \"778-388-9268\"\n",
    "send_webhook(jessie_contact, \"No\", url)"
   ]
  },
  {
   "cell_type": "code",
   "execution_count": null,
   "id": "449c04d9",
   "metadata": {},
   "outputs": [],
   "source": [
    "response = send_webhook(jessie_contact, \"2022-2-17 4pm\", url)\n",
    "response"
   ]
  },
  {
   "cell_type": "code",
   "execution_count": null,
   "id": "131f1899",
   "metadata": {},
   "outputs": [],
   "source": [
    "pd.DataFrame(UserEvent.objects.values())"
   ]
  },
  {
   "cell_type": "code",
   "execution_count": null,
   "id": "c0df06cf",
   "metadata": {},
   "outputs": [],
   "source": [
    "send_webhook(jessie_contact, \"Yes\", url)"
   ]
  },
  {
   "cell_type": "code",
   "execution_count": null,
   "id": "47388a96",
   "metadata": {},
   "outputs": [],
   "source": [
    "# Peeks\n",
    "pd.DataFrame(UserEvent.objects.values())"
   ]
  },
  {
   "cell_type": "markdown",
   "id": "a485ece3",
   "metadata": {},
   "source": [
    "## Tests Event Initialization"
   ]
  },
  {
   "cell_type": "code",
   "execution_count": null,
   "id": "cd23af08",
   "metadata": {},
   "outputs": [],
   "source": [
    "endpoint = \"events/api/v1/event-initialization\"\n",
    "\n",
    "host_id = User.objects.get(username=\"Andrew\").id\n",
    "event_name = \"Bowling Party\"\n",
    "event_times = [\n",
    "    (\"2/14/24 14:00\", \"02/14/24 18:00\"),\n",
    "    (\"2/15/24 14:00\", \"02/15/24 18:00\")\n",
    "]\n",
    "invitee_ids = [\n",
    "    User.objects.get(username=\"Jessie\").id,\n",
    "    User.objects.get(username=\"Luna\").id,\n",
    "]\n",
    "data = {\n",
    "    \"user_id\": host_id,\n",
    "    \"event_name\": event_name,\n",
    "    \"event_times\": event_times,\n",
    "    \"invitee_ids\": invitee_ids\n",
    "}\n",
    "\n",
    "def use_api(endpoint, data):\n",
    "    \"\"\"\n",
    "    \"\"\"\n",
    "    url = \"http://127.0.0.1:8000/\" + endpoint\n",
    "    # Convert the data to JSON and make the POST request\n",
    "    response = requests.post(\n",
    "        url, \n",
    "        data=json.dumps(data), \n",
    "        headers={'Content-Type': 'application/json'}\n",
    "    )\n",
    "    \n",
    "    return response\n",
    "\n",
    "response = use_api(endpoint, data)\n",
    "response.json()"
   ]
  },
  {
   "cell_type": "code",
   "execution_count": null,
   "id": "7f76adbe",
   "metadata": {},
   "outputs": [],
   "source": [
    "from twilio.rest import Client\n",
    "\n",
    "# Twilio credentials\n",
    "account_sid=\"AC1a396906b5cd2edf4ea2aa5d544ca1da\"\n",
    "auth_token=\"3dad5da24df7096c2bf8ed2daf416960\"\n",
    "\n",
    "# Initialize Twilio client\n",
    "client = Client(account_sid, auth_token)\n",
    "\n",
    "# Your Twilio WhatsApp number and recipient's WhatsApp number\n",
    "from_whatsapp_number = '+16593992076'\n",
    "# from_whatsapp_number = 'whatsapp:+14155238886'\n",
    "to_whatsapp_number = '+17783889268'\n",
    "\n",
    "# Send the message\n",
    "message = client.messages.create(\n",
    "    body='This is a test message!',\n",
    "    from_=from_whatsapp_number,\n",
    "    to=to_whatsapp_number\n",
    ")\n",
    "\n",
    "print(f\"Message SID: {message.sid}\")"
   ]
  },
  {
   "cell_type": "code",
   "execution_count": null,
   "id": "9b79ba1a",
   "metadata": {},
   "outputs": [],
   "source": [
    "# client = Client(account_sid, auth_token)\n",
    "\n",
    "conversation = client.conversations.v1.conversations.create(friendly_name='My First Conversation')\n",
    "\n",
    "print(conversation.sid)"
   ]
  },
  {
   "cell_type": "code",
   "execution_count": null,
   "id": "4fd98d76",
   "metadata": {},
   "outputs": [],
   "source": [
    "conversation = client.conversations.v1 \\\n",
    "                     .conversations('CH3e1a0d2cbd3c4f3b8e2dc461436b9d57') \\\n",
    "                     .fetch()\n",
    "\n",
    "print(conversation.chat_service_sid)"
   ]
  },
  {
   "cell_type": "code",
   "execution_count": null,
   "id": "2cfaacd5",
   "metadata": {},
   "outputs": [],
   "source": [
    "client = Client(account_sid, auth_token)\n",
    "\n",
    "participant = client.conversations \\\n",
    "    .v1 \\\n",
    "    .conversations('CH3e1a0d2cbd3c4f3b8e2dc461436b9d57') \\\n",
    "    .participants \\\n",
    "    .create(\n",
    "         messaging_binding_address='+16047627278',\n",
    "         messaging_binding_proxy_address='+16593992076'\n",
    "     )"
   ]
  },
  {
   "cell_type": "code",
   "execution_count": null,
   "id": "032c31bc",
   "metadata": {},
   "outputs": [],
   "source": [
    "participant"
   ]
  },
  {
   "cell_type": "code",
   "execution_count": null,
   "id": "d3af5271",
   "metadata": {},
   "outputs": [],
   "source": [
    "message = client.messages.create(\n",
    "  from_='whatsapp:+14155238886',\n",
    "  body='Your appointment is coming up on July 21 at 3PM',\n",
    "  to='whatsapp:+16047627278'\n",
    ")\n"
   ]
  }
 ],
 "metadata": {
  "kernelspec": {
   "display_name": "venv-event-scheduler",
   "language": "python",
   "name": "venv-event-scheduler"
  },
  "language_info": {
   "codemirror_mode": {
    "name": "ipython",
    "version": 3
   },
   "file_extension": ".py",
   "mimetype": "text/x-python",
   "name": "python",
   "nbconvert_exporter": "python",
   "pygments_lexer": "ipython3",
   "version": "3.10.7"
  },
  "toc": {
   "base_numbering": 1,
   "nav_menu": {},
   "number_sections": true,
   "sideBar": true,
   "skip_h1_title": false,
   "title_cell": "Table of Contents",
   "title_sidebar": "Contents",
   "toc_cell": false,
   "toc_position": {
    "height": "calc(100% - 180px)",
    "left": "10px",
    "top": "150px",
    "width": "165px"
   },
   "toc_section_display": true,
   "toc_window_display": true
  }
 },
 "nbformat": 4,
 "nbformat_minor": 5
}
