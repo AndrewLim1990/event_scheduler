{
 "cells": [
  {
   "cell_type": "markdown",
   "id": "cfa0e983",
   "metadata": {},
   "source": [
    "# Development Scratch\n",
    "\n",
    "This notebook contains ideas/scratch/notes for development"
   ]
  },
  {
   "cell_type": "code",
   "execution_count": 106,
   "id": "26eace14",
   "metadata": {},
   "outputs": [],
   "source": [
    "import os\n",
    "import sys\n",
    "import django\n",
    "import datetime\n",
    "import json\n",
    "import pandas as pd\n",
    "import requests\n",
    "\n",
    "from collections import defaultdict\n",
    "from distutils.util import strtobool\n",
    "\n",
    "\n",
    "os.environ[\"DJANGO_ALLOW_ASYNC_UNSAFE\"] = \"true\"\n",
    "os.environ['DJANGO_SETTINGS_MODULE'] = 'schedule_bot.settings'\n",
    "\n",
    "django.setup()\n",
    "\n",
    "from availabilities.models import *\n",
    "from availabilities.utils import check_availabilities\n",
    "from availabilities.utils import get_availabilities_for_participants\n",
    "from events.finite_state_machine import UserEventMachine\n",
    "from events.models import *\n",
    "from events.utils import get_all_event_participants\n",
    "from events.utils import string_to_date_time, create_event\n",
    "from unittest.mock import Mock"
   ]
  },
  {
   "cell_type": "code",
   "execution_count": 107,
   "id": "72368cf7",
   "metadata": {},
   "outputs": [],
   "source": [
    "def send_webhook(user, msg, url):\n",
    "    \"\"\"\n",
    "    \"\"\"\n",
    "    data = {\n",
    "        'From': user,  # Example sender number\n",
    "        'Body': msg,  # Example message body\\\n",
    "    }\n",
    "\n",
    "    # Convert the data to JSON and make the POST request\n",
    "    response = requests.post(\n",
    "        url, \n",
    "        data=json.dumps(data), \n",
    "        headers={'Content-Type': 'application/json'}\n",
    "    )\n",
    "    \n",
    "    return response"
   ]
  },
  {
   "cell_type": "code",
   "execution_count": 108,
   "id": "607e3101",
   "metadata": {},
   "outputs": [],
   "source": [
    "FEB_3_9AM = datetime.datetime(\n",
    "    year=2022, \n",
    "    month=2, \n",
    "    day=3, \n",
    "    hour=9,\n",
    "    tzinfo=datetime.timezone.utc\n",
    ")\n",
    "\n",
    "FEB_3_5PM = datetime.datetime(\n",
    "    year=2022, \n",
    "    month=2, \n",
    "    day=3, \n",
    "    hour=17,\n",
    "    tzinfo=datetime.timezone.utc\n",
    ")\n",
    "\n",
    "FEB_3_2PM = datetime.datetime(\n",
    "    year=2022, \n",
    "    month=2, \n",
    "    day=3, \n",
    "    hour=14,\n",
    "    tzinfo=datetime.timezone.utc\n",
    ")\n",
    "\n",
    "FEB_3_5PM = datetime.datetime(\n",
    "    year=2022, \n",
    "    month=2, \n",
    "    day=3, \n",
    "    hour=17,\n",
    "    tzinfo=datetime.timezone.utc\n",
    ")\n",
    "\n",
    "FEB_4_2PM = datetime.datetime(\n",
    "    year=2022, \n",
    "    month=2, \n",
    "    day=4, \n",
    "    hour=14,\n",
    "    tzinfo=datetime.timezone.utc\n",
    ")\n",
    "\n",
    "FEB_4_5PM = datetime.datetime(\n",
    "    year=2022, \n",
    "    month=2, \n",
    "    day=4, \n",
    "    hour=17,\n",
    "    tzinfo=datetime.timezone.utc\n",
    ")\n",
    "\n",
    "\n",
    "FEB_5_2PM = datetime.datetime(\n",
    "    year=2022, \n",
    "    month=2, \n",
    "    day=5, \n",
    "    hour=14,\n",
    "    tzinfo=datetime.timezone.utc\n",
    ")\n",
    "\n",
    "FEB_5_5PM = datetime.datetime(\n",
    "    year=2022, \n",
    "    month=2, \n",
    "    day=5, \n",
    "    hour=17,\n",
    "    tzinfo=datetime.timezone.utc\n",
    ")"
   ]
  },
  {
   "cell_type": "code",
   "execution_count": 109,
   "id": "726ee487",
   "metadata": {},
   "outputs": [
    {
     "data": {
      "text/plain": [
       "(0, {})"
      ]
     },
     "execution_count": 109,
     "metadata": {},
     "output_type": "execute_result"
    }
   ],
   "source": [
    "UserEvent.objects.all().delete()\n",
    "UserEventTime.objects.all().delete()\n",
    "EventTime.objects.all().delete()\n",
    "SuggestedDate.objects.all().delete()\n",
    "DateAvailability.objects.all().delete()\n",
    "Availability.objects.all().delete()"
   ]
  },
  {
   "cell_type": "code",
   "execution_count": 110,
   "id": "00230a37",
   "metadata": {},
   "outputs": [
    {
     "data": {
      "text/html": [
       "<div>\n",
       "<style scoped>\n",
       "    .dataframe tbody tr th:only-of-type {\n",
       "        vertical-align: middle;\n",
       "    }\n",
       "\n",
       "    .dataframe tbody tr th {\n",
       "        vertical-align: top;\n",
       "    }\n",
       "\n",
       "    .dataframe thead th {\n",
       "        text-align: right;\n",
       "    }\n",
       "</style>\n",
       "<table border=\"1\" class=\"dataframe\">\n",
       "  <thead>\n",
       "    <tr style=\"text-align: right;\">\n",
       "      <th></th>\n",
       "      <th>id</th>\n",
       "      <th>event_id</th>\n",
       "      <th>date_time_start</th>\n",
       "      <th>date_time_end</th>\n",
       "    </tr>\n",
       "  </thead>\n",
       "  <tbody>\n",
       "    <tr>\n",
       "      <th>0</th>\n",
       "      <td>71</td>\n",
       "      <td>5</td>\n",
       "      <td>2022-02-03 14:00:00+00:00</td>\n",
       "      <td>2022-02-03 17:00:00+00:00</td>\n",
       "    </tr>\n",
       "    <tr>\n",
       "      <th>1</th>\n",
       "      <td>72</td>\n",
       "      <td>5</td>\n",
       "      <td>2022-02-04 14:00:00+00:00</td>\n",
       "      <td>2022-02-04 17:00:00+00:00</td>\n",
       "    </tr>\n",
       "    <tr>\n",
       "      <th>2</th>\n",
       "      <td>73</td>\n",
       "      <td>5</td>\n",
       "      <td>2022-02-05 14:00:00+00:00</td>\n",
       "      <td>2022-02-05 17:00:00+00:00</td>\n",
       "    </tr>\n",
       "  </tbody>\n",
       "</table>\n",
       "</div>"
      ],
      "text/plain": [
       "   id  event_id           date_time_start             date_time_end\n",
       "0  71         5 2022-02-03 14:00:00+00:00 2022-02-03 17:00:00+00:00\n",
       "1  72         5 2022-02-04 14:00:00+00:00 2022-02-04 17:00:00+00:00\n",
       "2  73         5 2022-02-05 14:00:00+00:00 2022-02-05 17:00:00+00:00"
      ]
     },
     "execution_count": 110,
     "metadata": {},
     "output_type": "execute_result"
    }
   ],
   "source": [
    "# Generates test data: Not available 2022/2/3 9-5PM\n",
    "andrew_defaults = {\n",
    "    \"date_time_start\": FEB_3_9AM,\n",
    "    \"date_time_end\": FEB_3_5PM,\n",
    "    \"is_available\": False\n",
    "}\n",
    "\n",
    "jessie_defaults = {\n",
    "    \"date_time_start\": FEB_4_2PM,\n",
    "    \"date_time_end\": FEB_4_5PM,\n",
    "    \"is_available\": False\n",
    "}\n",
    "\n",
    "andrew, __ = User.objects.get_or_create(username=\"Andrew\")\n",
    "jessie, __ = User.objects.get_or_create(username=\"Jessie\")\n",
    "luna, __ = User.objects.get_or_create(username=\"Luna\")\n",
    "\n",
    "availability, __ = DateAvailability.objects.update_or_create(\n",
    "    user=andrew,\n",
    "    category=\"hockey_team\",\n",
    "    defaults=andrew_defaults\n",
    ")\n",
    "\n",
    "availability, __ = DateAvailability.objects.update_or_create(\n",
    "    user=jessie,\n",
    "    category=\"social_stuff\",\n",
    "    defaults=jessie_defaults\n",
    ")\n",
    "\n",
    "\n",
    "# Generates proposed times\n",
    "proposed_times = [\n",
    "    (FEB_3_2PM, FEB_3_5PM),\n",
    "    (FEB_4_2PM, FEB_4_5PM),\n",
    "    (FEB_5_2PM, FEB_5_5PM),\n",
    "]\n",
    "\n",
    "# Generates event\n",
    "create_event(\n",
    "    host_user=andrew,\n",
    "    event_name=\"Hockey Party\",\n",
    "    invitees=[jessie, luna],\n",
    "    proposed_times=proposed_times\n",
    ")\n",
    "\n",
    "event = Event.objects.get(\n",
    "    name=\"Hockey Party\",\n",
    ")\n",
    "\n",
    "\n",
    "# Peeks\n",
    "event_time_df = pd.DataFrame(EventTime.objects.filter(event=event).values())\n",
    "event_time_df"
   ]
  },
  {
   "cell_type": "code",
   "execution_count": 111,
   "id": "86c1d5c1",
   "metadata": {},
   "outputs": [
    {
     "name": "stdout",
     "output_type": "stream",
     "text": [
      "Jessie, would 2022-02-05 14:00:00+00:00 to 2022-02-05 17:00:00+00:00 work for you?\n",
      "Jessie's new state: waiting_response\n"
     ]
    }
   ],
   "source": [
    "user_event = UserEvent.objects.get(user=jessie, event=event)\n",
    "user_event_machine = UserEventMachine(user_event)\n",
    "user_event_machine.send_initial_text()"
   ]
  },
  {
   "cell_type": "code",
   "execution_count": 112,
   "id": "a68ed8ce",
   "metadata": {},
   "outputs": [
    {
     "data": {
      "text/plain": [
       "<Response [500]>"
      ]
     },
     "execution_count": 112,
     "metadata": {},
     "output_type": "execute_result"
    }
   ],
   "source": [
    "# URL of your local Django webhook endpoint\n",
    "url = 'http://127.0.0.1:8000/messages/twilio/webhook'\n",
    "send_webhook(\"Jessie\", \"No\", url)\n",
    "send_webhook(\"Jessie\", \"2022-2-17 4pm\", url)\n",
    "send_webhook(\"Jessie\", \"Yes\", url)"
   ]
  },
  {
   "cell_type": "code",
   "execution_count": 31,
   "id": "161b2fc6",
   "metadata": {},
   "outputs": [
    {
     "data": {
      "text/html": [
       "<div>\n",
       "<style scoped>\n",
       "    .dataframe tbody tr th:only-of-type {\n",
       "        vertical-align: middle;\n",
       "    }\n",
       "\n",
       "    .dataframe tbody tr th {\n",
       "        vertical-align: top;\n",
       "    }\n",
       "\n",
       "    .dataframe thead th {\n",
       "        text-align: right;\n",
       "    }\n",
       "</style>\n",
       "<table border=\"1\" class=\"dataframe\">\n",
       "  <thead>\n",
       "    <tr style=\"text-align: right;\">\n",
       "      <th></th>\n",
       "      <th>id</th>\n",
       "      <th>state</th>\n",
       "      <th>user_id</th>\n",
       "      <th>event_id</th>\n",
       "      <th>is_required</th>\n",
       "      <th>is_host</th>\n",
       "    </tr>\n",
       "  </thead>\n",
       "  <tbody>\n",
       "    <tr>\n",
       "      <th>0</th>\n",
       "      <td>52</td>\n",
       "      <td>waiting_for_others</td>\n",
       "      <td>1</td>\n",
       "      <td>5</td>\n",
       "      <td>True</td>\n",
       "      <td>True</td>\n",
       "    </tr>\n",
       "    <tr>\n",
       "      <th>1</th>\n",
       "      <td>53</td>\n",
       "      <td>waiting_for_others</td>\n",
       "      <td>2</td>\n",
       "      <td>5</td>\n",
       "      <td>True</td>\n",
       "      <td>False</td>\n",
       "    </tr>\n",
       "    <tr>\n",
       "      <th>2</th>\n",
       "      <td>54</td>\n",
       "      <td>waiting_response</td>\n",
       "      <td>3</td>\n",
       "      <td>5</td>\n",
       "      <td>True</td>\n",
       "      <td>False</td>\n",
       "    </tr>\n",
       "  </tbody>\n",
       "</table>\n",
       "</div>"
      ],
      "text/plain": [
       "   id               state  user_id  event_id  is_required  is_host\n",
       "0  52  waiting_for_others        1         5         True     True\n",
       "1  53  waiting_for_others        2         5         True    False\n",
       "2  54    waiting_response        3         5         True    False"
      ]
     },
     "execution_count": 31,
     "metadata": {},
     "output_type": "execute_result"
    }
   ],
   "source": [
    "pd.DataFrame(UserEvent.objects.values())"
   ]
  },
  {
   "cell_type": "code",
   "execution_count": null,
   "id": "a63d6f09",
   "metadata": {},
   "outputs": [],
   "source": []
  },
  {
   "cell_type": "code",
   "execution_count": 104,
   "id": "cd23af08",
   "metadata": {},
   "outputs": [
    {
     "data": {
      "text/plain": [
       "datetime.datetime(2024, 1, 2, 14, 0)"
      ]
     },
     "execution_count": 104,
     "metadata": {},
     "output_type": "execute_result"
    }
   ],
   "source": [
    "\n",
    "# import parsedatetime\n",
    "# import pytz\n",
    "\n",
    "# def string_to_date_time(input_string):\n",
    "#     \"\"\"\n",
    "#     Translates input_string into datetime\n",
    "#     \"\"\"\n",
    "#     # Convert string to structtime\n",
    "#     cal = parsedatetime.Calendar()\n",
    "#     struct_time, __ = cal.parse(input_string)\n",
    "\n",
    "#     # Convert structtime to datetime\n",
    "#     date_time = datetime.datetime(*struct_time[:6])\n",
    "\n",
    "#     return date_time\n",
    "\n",
    "\n",
    "# date = string_to_date_time(\"2024-01-02 2pm\")\n",
    "\n",
    "# # pst_timezone = pytz.timezone('America/Los_Angeles')"
   ]
  },
  {
   "cell_type": "code",
   "execution_count": 105,
   "id": "7f76adbe",
   "metadata": {},
   "outputs": [
    {
     "data": {
      "text/plain": [
       "datetime.datetime(2024, 1, 2, 14, 0, tzinfo=<DstTzInfo 'America/Los_Angeles' PST-1 day, 16:00:00 STD>)"
      ]
     },
     "execution_count": 105,
     "metadata": {},
     "output_type": "execute_result"
    }
   ],
   "source": [
    "# pst_timezone.localize(date)"
   ]
  }
 ],
 "metadata": {
  "kernelspec": {
   "display_name": "venv-event-scheduler",
   "language": "python",
   "name": "venv-event-scheduler"
  },
  "language_info": {
   "codemirror_mode": {
    "name": "ipython",
    "version": 3
   },
   "file_extension": ".py",
   "mimetype": "text/x-python",
   "name": "python",
   "nbconvert_exporter": "python",
   "pygments_lexer": "ipython3",
   "version": "3.10.7"
  },
  "toc": {
   "base_numbering": 1,
   "nav_menu": {},
   "number_sections": true,
   "sideBar": true,
   "skip_h1_title": false,
   "title_cell": "Table of Contents",
   "title_sidebar": "Contents",
   "toc_cell": false,
   "toc_position": {
    "height": "calc(100% - 180px)",
    "left": "10px",
    "top": "150px",
    "width": "165px"
   },
   "toc_section_display": true,
   "toc_window_display": true
  }
 },
 "nbformat": 4,
 "nbformat_minor": 5
}
