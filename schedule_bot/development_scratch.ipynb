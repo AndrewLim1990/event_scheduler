{
 "cells": [
  {
   "cell_type": "markdown",
   "id": "cfa0e983",
   "metadata": {},
   "source": [
    "# Development Scratch\n",
    "\n",
    "This notebook contains ideas/scratch/notes for development"
   ]
  },
  {
   "cell_type": "code",
   "execution_count": 6,
   "id": "08f2a395",
   "metadata": {},
   "outputs": [],
   "source": [
    "import os\n",
    "import sys\n",
    "\n",
    "PWD = os.getenv('PWD')\n",
    "os.chdir(PWD)\n",
    "sys.path.insert(0, PWD)\n",
    "os.environ.setdefault(\"DJANGO_SETTINGS_MODULE\", \"local_settings.py\")\n",
    "os.environ[\"DJANGO_ALLOW_ASYNC_UNSAFE\"] = \"true\"\n",
    "\n",
    "import django\n",
    "django.setup()"
   ]
  },
  {
   "cell_type": "code",
   "execution_count": 10,
   "id": "ac8d004c",
   "metadata": {},
   "outputs": [],
   "source": [
    "import datetime\n",
    "import django\n",
    "import pandas as pd\n",
    "\n",
    "from availabilities.models import *\n",
    "from availabilities.utils import check_availabilities\n",
    "from availabilities.utils import get_availabilities_for_participants\n",
    "from events.models import *\n",
    "from events.utils import get_all_event_participants\n",
    "from collections import defaultdict\n",
    "\n",
    "# os.environ.setdefault('DJANGO_SETTINGS_MODULE', 'rest.settings')\n",
    "# django.setup()"
   ]
  },
  {
   "cell_type": "code",
   "execution_count": 11,
   "id": "607e3101",
   "metadata": {},
   "outputs": [],
   "source": [
    "FEB_3_9AM = datetime.datetime(\n",
    "    year=2022, \n",
    "    month=2, \n",
    "    day=3, \n",
    "    hour=9,\n",
    "    tzinfo=datetime.timezone.utc\n",
    ")\n",
    "\n",
    "FEB_3_5PM = datetime.datetime(\n",
    "    year=2022, \n",
    "    month=2, \n",
    "    day=3, \n",
    "    hour=17,\n",
    "    tzinfo=datetime.timezone.utc\n",
    ")\n",
    "\n",
    "FEB_3_2PM = datetime.datetime(\n",
    "    year=2022, \n",
    "    month=2, \n",
    "    day=3, \n",
    "    hour=14,\n",
    "    tzinfo=datetime.timezone.utc\n",
    ")\n",
    "\n",
    "FEB_3_5PM = datetime.datetime(\n",
    "    year=2022, \n",
    "    month=2, \n",
    "    day=3, \n",
    "    hour=17,\n",
    "    tzinfo=datetime.timezone.utc\n",
    ")\n",
    "\n",
    "FEB_4_2PM = datetime.datetime(\n",
    "    year=2022, \n",
    "    month=2, \n",
    "    day=4, \n",
    "    hour=14,\n",
    "    tzinfo=datetime.timezone.utc\n",
    ")\n",
    "\n",
    "FEB_4_5PM = datetime.datetime(\n",
    "    year=2022, \n",
    "    month=2, \n",
    "    day=4, \n",
    "    hour=17,\n",
    "    tzinfo=datetime.timezone.utc\n",
    ")\n",
    "\n",
    "\n",
    "FEB_5_2PM = datetime.datetime(\n",
    "    year=2022, \n",
    "    month=2, \n",
    "    day=5, \n",
    "    hour=14,\n",
    "    tzinfo=datetime.timezone.utc\n",
    ")\n",
    "\n",
    "FEB_5_5PM = datetime.datetime(\n",
    "    year=2022, \n",
    "    month=2, \n",
    "    day=5, \n",
    "    hour=17,\n",
    "    tzinfo=datetime.timezone.utc\n",
    ")"
   ]
  },
  {
   "cell_type": "code",
   "execution_count": 28,
   "id": "00230a37",
   "metadata": {},
   "outputs": [
    {
     "data": {
      "text/html": [
       "<div>\n",
       "<style scoped>\n",
       "    .dataframe tbody tr th:only-of-type {\n",
       "        vertical-align: middle;\n",
       "    }\n",
       "\n",
       "    .dataframe tbody tr th {\n",
       "        vertical-align: top;\n",
       "    }\n",
       "\n",
       "    .dataframe thead th {\n",
       "        text-align: right;\n",
       "    }\n",
       "</style>\n",
       "<table border=\"1\" class=\"dataframe\">\n",
       "  <thead>\n",
       "    <tr style=\"text-align: right;\">\n",
       "      <th></th>\n",
       "      <th>id</th>\n",
       "      <th>event_id</th>\n",
       "      <th>date_time_start</th>\n",
       "      <th>date_time_end</th>\n",
       "    </tr>\n",
       "  </thead>\n",
       "  <tbody>\n",
       "    <tr>\n",
       "      <th>0</th>\n",
       "      <td>1</td>\n",
       "      <td>1</td>\n",
       "      <td>2022-02-03 14:00:00+00:00</td>\n",
       "      <td>2022-02-03 17:00:00+00:00</td>\n",
       "    </tr>\n",
       "    <tr>\n",
       "      <th>1</th>\n",
       "      <td>2</td>\n",
       "      <td>1</td>\n",
       "      <td>2022-02-04 14:00:00+00:00</td>\n",
       "      <td>2022-02-04 17:00:00+00:00</td>\n",
       "    </tr>\n",
       "    <tr>\n",
       "      <th>2</th>\n",
       "      <td>3</td>\n",
       "      <td>1</td>\n",
       "      <td>2022-02-05 14:00:00+00:00</td>\n",
       "      <td>2022-02-05 17:00:00+00:00</td>\n",
       "    </tr>\n",
       "  </tbody>\n",
       "</table>\n",
       "</div>"
      ],
      "text/plain": [
       "   id  event_id           date_time_start             date_time_end\n",
       "0   1         1 2022-02-03 14:00:00+00:00 2022-02-03 17:00:00+00:00\n",
       "1   2         1 2022-02-04 14:00:00+00:00 2022-02-04 17:00:00+00:00\n",
       "2   3         1 2022-02-05 14:00:00+00:00 2022-02-05 17:00:00+00:00"
      ]
     },
     "execution_count": 28,
     "metadata": {},
     "output_type": "execute_result"
    }
   ],
   "source": [
    "# Generates test data: Not available 2022/2/3 9-5PM\n",
    "andrew_defaults = {\n",
    "    \"date_time_start\": FEB_3_9AM,\n",
    "    \"date_time_end\": FEB_3_5PM,\n",
    "    \"is_available\": False\n",
    "}\n",
    "\n",
    "jessie_defaults = {\n",
    "    \"date_time_start\": FEB_4_2PM,\n",
    "    \"date_time_end\": FEB_4_5PM,\n",
    "    \"is_available\": False\n",
    "}\n",
    "\n",
    "andrew, __ = User.objects.get_or_create(username=\"Andrew\")\n",
    "jessie, __ = User.objects.get_or_create(username=\"Jessie\")\n",
    "\n",
    "availability, __ = DateAvailability.objects.update_or_create(\n",
    "    user=andrew,\n",
    "    category=\"hockey_team\",\n",
    "    defaults=andrew_defaults\n",
    ")\n",
    "\n",
    "availability, __ = DateAvailability.objects.update_or_create(\n",
    "    user=jessie,\n",
    "    category=\"social_stuff\",\n",
    "    defaults=jessie_defaults\n",
    ")\n",
    "\n",
    "# Generates event\n",
    "event_defaults = {\n",
    "    \"members\": []\n",
    "}\n",
    "event, __ = Event.objects.get_or_create(\n",
    "    name=\"Hockey Party\",\n",
    ")\n",
    "event.save()\n",
    "\n",
    "# Connects users to event\n",
    "UserEvent.objects.update_or_create(\n",
    "    user=andrew,\n",
    "    event=event,\n",
    "    defaults={\n",
    "        \"is_host\": True,\n",
    "        \"is_required\": True\n",
    "    }\n",
    ")\n",
    "UserEvent.objects.update_or_create(\n",
    "    user=jessie,\n",
    "    event=event,\n",
    "    defaults={\n",
    "        \"is_host\": False,\n",
    "        \"is_required\": True\n",
    "    }\n",
    ")\n",
    "\n",
    "# Generates proposed times\n",
    "proposed_times = [\n",
    "    (FEB_3_2PM, FEB_3_5PM),\n",
    "    (FEB_4_2PM, FEB_4_5PM),\n",
    "    (FEB_5_2PM, FEB_5_5PM),\n",
    "]\n",
    "for proposed_start, proposed_end in proposed_times:\n",
    "    EventTime.objects.get_or_create(\n",
    "        event=event,\n",
    "        date_time_start=proposed_start,\n",
    "        date_time_end=proposed_end,\n",
    "    )\n",
    "\n",
    "# Peeks\n",
    "event_time_df = pd.DataFrame(EventTime.objects.filter(event=event).values())\n",
    "event_time_df"
   ]
  },
  {
   "cell_type": "code",
   "execution_count": null,
   "id": "2be563c4",
   "metadata": {},
   "outputs": [],
   "source": [
    "def process_suggested_date(user, event, suggested_event_time):\n",
    "    \"\"\"\n",
    "    Compares suggested_event_time against all members in event\n",
    "    \"\"\"\n",
    "    participants = get_all_event_participants(event)\n",
    "    availability_dict, times_that_work = check_availabilities(event)\n",
    "    \n",
    "    time_works = suggested_event_time.id in times_that_work\n",
    "    available_participants = availability_dict[suggested_event_time.id]\n",
    "    unavailable_participants = list(set(participants) - set(available_participants))\n",
    "        \n",
    "    return time_works, unavailable_participants\n",
    "    \n",
    "\n",
    "user = andrew\n",
    "suggested_event_time = EventTime.objects.get(\n",
    "    event_id=event.id,\n",
    "    date_time_start=FEB_5_2PM\n",
    ")\n",
    "\n",
    "process_suggested_date(user, event, suggested_event_time)"
   ]
  },
  {
   "cell_type": "code",
   "execution_count": 34,
   "id": "cf3973e4",
   "metadata": {},
   "outputs": [
    {
     "data": {
      "text/plain": [
       "[<User: Andrew>, <User: Jessie>]"
      ]
     },
     "execution_count": 34,
     "metadata": {},
     "output_type": "execute_result"
    }
   ],
   "source": [
    "user_ids = list(Event.objects.filter(id=event.id).values_list(\"users__user_id\", flat=True))\n",
    "users = list(User.objects.filter(id__in=user_ids))"
   ]
  },
  {
   "cell_type": "code",
   "execution_count": 22,
   "id": "358c5f99",
   "metadata": {},
   "outputs": [
    {
     "data": {
      "text/html": [
       "<div>\n",
       "<style scoped>\n",
       "    .dataframe tbody tr th:only-of-type {\n",
       "        vertical-align: middle;\n",
       "    }\n",
       "\n",
       "    .dataframe tbody tr th {\n",
       "        vertical-align: top;\n",
       "    }\n",
       "\n",
       "    .dataframe thead th {\n",
       "        text-align: right;\n",
       "    }\n",
       "</style>\n",
       "<table border=\"1\" class=\"dataframe\">\n",
       "  <thead>\n",
       "    <tr style=\"text-align: right;\">\n",
       "      <th></th>\n",
       "      <th>id</th>\n",
       "      <th>state</th>\n",
       "      <th>user_id</th>\n",
       "      <th>event_id</th>\n",
       "      <th>is_required</th>\n",
       "      <th>is_host</th>\n",
       "    </tr>\n",
       "  </thead>\n",
       "  <tbody>\n",
       "    <tr>\n",
       "      <th>0</th>\n",
       "      <td>1</td>\n",
       "      <td>None</td>\n",
       "      <td>1</td>\n",
       "      <td>1</td>\n",
       "      <td>True</td>\n",
       "      <td>True</td>\n",
       "    </tr>\n",
       "    <tr>\n",
       "      <th>1</th>\n",
       "      <td>2</td>\n",
       "      <td>None</td>\n",
       "      <td>1</td>\n",
       "      <td>1</td>\n",
       "      <td>True</td>\n",
       "      <td>True</td>\n",
       "    </tr>\n",
       "    <tr>\n",
       "      <th>2</th>\n",
       "      <td>3</td>\n",
       "      <td>None</td>\n",
       "      <td>2</td>\n",
       "      <td>1</td>\n",
       "      <td>True</td>\n",
       "      <td>False</td>\n",
       "    </tr>\n",
       "  </tbody>\n",
       "</table>\n",
       "</div>"
      ],
      "text/plain": [
       "   id state  user_id  event_id  is_required  is_host\n",
       "0   1  None        1         1         True     True\n",
       "1   2  None        1         1         True     True\n",
       "2   3  None        2         1         True    False"
      ]
     },
     "execution_count": 22,
     "metadata": {},
     "output_type": "execute_result"
    }
   ],
   "source": [
    "pd.DataFrame(UserEvent.objects.values())"
   ]
  },
  {
   "cell_type": "code",
   "execution_count": 68,
   "id": "130abee6",
   "metadata": {},
   "outputs": [
    {
     "ename": "AttributeError",
     "evalue": "Manager isn't accessible via Event instances",
     "output_type": "error",
     "traceback": [
      "\u001b[0;31m---------------------------------------------------------------------------\u001b[0m",
      "\u001b[0;31mAttributeError\u001b[0m                            Traceback (most recent call last)",
      "\u001b[0;32m/var/folders/db/b4t8cnmj6bx7q4cx900xhyf00000gn/T/ipykernel_70880/457651219.py\u001b[0m in \u001b[0;36m<module>\u001b[0;34m\u001b[0m\n\u001b[0;32m----> 1\u001b[0;31m \u001b[0mevent\u001b[0m\u001b[0;34m.\u001b[0m\u001b[0mobjects\u001b[0m\u001b[0;34m.\u001b[0m\u001b[0mselect_related\u001b[0m\u001b[0;34m(\u001b[0m\u001b[0;34m\"users__user\"\u001b[0m\u001b[0;34m)\u001b[0m\u001b[0;34m\u001b[0m\u001b[0m\n\u001b[0m",
      "\u001b[0;32m~/projects/event_scheduler/venv/lib/python3.7/site-packages/django/db/models/manager.py\u001b[0m in \u001b[0;36m__get__\u001b[0;34m(self, instance, cls)\u001b[0m\n\u001b[1;32m    177\u001b[0m     \u001b[0;32mdef\u001b[0m \u001b[0m__get__\u001b[0m\u001b[0;34m(\u001b[0m\u001b[0mself\u001b[0m\u001b[0;34m,\u001b[0m \u001b[0minstance\u001b[0m\u001b[0;34m,\u001b[0m \u001b[0mcls\u001b[0m\u001b[0;34m=\u001b[0m\u001b[0;32mNone\u001b[0m\u001b[0;34m)\u001b[0m\u001b[0;34m:\u001b[0m\u001b[0;34m\u001b[0m\u001b[0m\n\u001b[1;32m    178\u001b[0m         \u001b[0;32mif\u001b[0m \u001b[0minstance\u001b[0m \u001b[0;32mis\u001b[0m \u001b[0;32mnot\u001b[0m \u001b[0;32mNone\u001b[0m\u001b[0;34m:\u001b[0m\u001b[0;34m\u001b[0m\u001b[0m\n\u001b[0;32m--> 179\u001b[0;31m             \u001b[0;32mraise\u001b[0m \u001b[0mAttributeError\u001b[0m\u001b[0;34m(\u001b[0m\u001b[0;34m\"Manager isn't accessible via %s instances\"\u001b[0m \u001b[0;34m%\u001b[0m \u001b[0mcls\u001b[0m\u001b[0;34m.\u001b[0m\u001b[0m__name__\u001b[0m\u001b[0;34m)\u001b[0m\u001b[0;34m\u001b[0m\u001b[0m\n\u001b[0m\u001b[1;32m    180\u001b[0m \u001b[0;34m\u001b[0m\u001b[0m\n\u001b[1;32m    181\u001b[0m         \u001b[0;32mif\u001b[0m \u001b[0mcls\u001b[0m\u001b[0;34m.\u001b[0m\u001b[0m_meta\u001b[0m\u001b[0;34m.\u001b[0m\u001b[0mabstract\u001b[0m\u001b[0;34m:\u001b[0m\u001b[0;34m\u001b[0m\u001b[0m\n",
      "\u001b[0;31mAttributeError\u001b[0m: Manager isn't accessible via Event instances"
     ]
    }
   ],
   "source": [
    "event.objects.select_related(\"users__user\")"
   ]
  },
  {
   "cell_type": "code",
   "execution_count": 70,
   "id": "8ab90c7e",
   "metadata": {},
   "outputs": [
    {
     "ename": "AttributeError",
     "evalue": "'Event' object has no attribute 'values'",
     "output_type": "error",
     "traceback": [
      "\u001b[0;31m---------------------------------------------------------------------------\u001b[0m",
      "\u001b[0;31mAttributeError\u001b[0m                            Traceback (most recent call last)",
      "\u001b[0;32m/var/folders/db/b4t8cnmj6bx7q4cx900xhyf00000gn/T/ipykernel_70880/607544560.py\u001b[0m in \u001b[0;36m<module>\u001b[0;34m\u001b[0m\n\u001b[0;32m----> 1\u001b[0;31m \u001b[0mevent\u001b[0m\u001b[0;34m.\u001b[0m\u001b[0mvalues\u001b[0m\u001b[0;34m(\u001b[0m\u001b[0;34m)\u001b[0m\u001b[0;34m\u001b[0m\u001b[0m\n\u001b[0m",
      "\u001b[0;31mAttributeError\u001b[0m: 'Event' object has no attribute 'values'"
     ]
    }
   ],
   "source": [
    "event.users."
   ]
  },
  {
   "cell_type": "code",
   "execution_count": 91,
   "id": "e7c16220",
   "metadata": {},
   "outputs": [
    {
     "data": {
      "text/plain": [
       "<QuerySet [<UserEvent: UserEvent object (4)>, <UserEvent: UserEvent object (5)>]>"
      ]
     },
     "execution_count": 91,
     "metadata": {},
     "output_type": "execute_result"
    }
   ],
   "source": [
    "event.users.select_related(\"event\").all()"
   ]
  },
  {
   "cell_type": "code",
   "execution_count": null,
   "id": "3cc3d6e7",
   "metadata": {},
   "outputs": [],
   "source": []
  }
 ],
 "metadata": {
  "kernelspec": {
   "display_name": "venv",
   "language": "python",
   "name": "venv"
  },
  "language_info": {
   "codemirror_mode": {
    "name": "ipython",
    "version": 3
   },
   "file_extension": ".py",
   "mimetype": "text/x-python",
   "name": "python",
   "nbconvert_exporter": "python",
   "pygments_lexer": "ipython3",
   "version": "3.7.0"
  },
  "toc": {
   "base_numbering": 1,
   "nav_menu": {},
   "number_sections": true,
   "sideBar": true,
   "skip_h1_title": false,
   "title_cell": "Table of Contents",
   "title_sidebar": "Contents",
   "toc_cell": false,
   "toc_position": {
    "height": "calc(100% - 180px)",
    "left": "10px",
    "top": "150px",
    "width": "165px"
   },
   "toc_section_display": true,
   "toc_window_display": true
  }
 },
 "nbformat": 4,
 "nbformat_minor": 5
}
