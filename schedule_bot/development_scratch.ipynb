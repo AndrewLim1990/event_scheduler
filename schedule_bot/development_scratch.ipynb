{
 "cells": [
  {
   "cell_type": "markdown",
   "id": "0e154579",
   "metadata": {},
   "source": [
    "# Development Scratch\n",
    "\n",
    "This notebook contains ideas/scratch/notes for development"
   ]
  },
  {
   "cell_type": "code",
   "execution_count": 1,
   "id": "cf2021cb",
   "metadata": {},
   "outputs": [],
   "source": [
    "from availabilities.models import *\n",
    "from events.models import *\n",
    "import datetime\n",
    "import pandas as pd"
   ]
  },
  {
   "cell_type": "code",
   "execution_count": 2,
   "id": "2200e721",
   "metadata": {},
   "outputs": [],
   "source": [
    "FEB_3_9AM = datetime.datetime(\n",
    "    year=2022, \n",
    "    month=2, \n",
    "    day=3, \n",
    "    hour=9,\n",
    "    tzinfo=datetime.timezone.utc\n",
    ")\n",
    "\n",
    "FEB_3_5PM = datetime.datetime(\n",
    "    year=2022, \n",
    "    month=2, \n",
    "    day=3, \n",
    "    hour=17,\n",
    "    tzinfo=datetime.timezone.utc\n",
    ")\n",
    "\n",
    "FEB_3_2PM = datetime.datetime(\n",
    "    year=2022, \n",
    "    month=2, \n",
    "    day=3, \n",
    "    hour=14,\n",
    "    tzinfo=datetime.timezone.utc\n",
    ")\n",
    "\n",
    "FEB_3_5PM = datetime.datetime(\n",
    "    year=2022, \n",
    "    month=2, \n",
    "    day=3, \n",
    "    hour=17,\n",
    "    tzinfo=datetime.timezone.utc\n",
    ")\n",
    "\n",
    "FEB_4_2PM = datetime.datetime(\n",
    "    year=2022, \n",
    "    month=2, \n",
    "    day=4, \n",
    "    hour=14,\n",
    "    tzinfo=datetime.timezone.utc\n",
    ")\n",
    "\n",
    "FEB_4_5PM = datetime.datetime(\n",
    "    year=2022, \n",
    "    month=2, \n",
    "    day=4, \n",
    "    hour=17,\n",
    "    tzinfo=datetime.timezone.utc\n",
    ")\n",
    "\n",
    "\n",
    "FEB_5_2PM = datetime.datetime(\n",
    "    year=2022, \n",
    "    month=2, \n",
    "    day=5, \n",
    "    hour=14,\n",
    "    tzinfo=datetime.timezone.utc\n",
    ")\n",
    "\n",
    "FEB_5_5PM = datetime.datetime(\n",
    "    year=2022, \n",
    "    month=2, \n",
    "    day=5, \n",
    "    hour=17,\n",
    "    tzinfo=datetime.timezone.utc\n",
    ")"
   ]
  },
  {
   "cell_type": "code",
   "execution_count": 3,
   "id": "e36b2805",
   "metadata": {},
   "outputs": [
    {
     "data": {
      "text/html": [
       "<div>\n",
       "<style scoped>\n",
       "    .dataframe tbody tr th:only-of-type {\n",
       "        vertical-align: middle;\n",
       "    }\n",
       "\n",
       "    .dataframe tbody tr th {\n",
       "        vertical-align: top;\n",
       "    }\n",
       "\n",
       "    .dataframe thead th {\n",
       "        text-align: right;\n",
       "    }\n",
       "</style>\n",
       "<table border=\"1\" class=\"dataframe\">\n",
       "  <thead>\n",
       "    <tr style=\"text-align: right;\">\n",
       "      <th></th>\n",
       "      <th>id</th>\n",
       "      <th>event_id</th>\n",
       "      <th>date_time_start</th>\n",
       "      <th>date_time_end</th>\n",
       "    </tr>\n",
       "  </thead>\n",
       "  <tbody>\n",
       "    <tr>\n",
       "      <th>0</th>\n",
       "      <td>1</td>\n",
       "      <td>1</td>\n",
       "      <td>2022-02-03 14:00:00+00:00</td>\n",
       "      <td>2022-02-03 17:00:00+00:00</td>\n",
       "    </tr>\n",
       "    <tr>\n",
       "      <th>1</th>\n",
       "      <td>2</td>\n",
       "      <td>1</td>\n",
       "      <td>2022-02-04 14:00:00+00:00</td>\n",
       "      <td>2022-02-04 17:00:00+00:00</td>\n",
       "    </tr>\n",
       "    <tr>\n",
       "      <th>2</th>\n",
       "      <td>3</td>\n",
       "      <td>1</td>\n",
       "      <td>2022-02-05 14:00:00+00:00</td>\n",
       "      <td>2022-02-05 17:00:00+00:00</td>\n",
       "    </tr>\n",
       "  </tbody>\n",
       "</table>\n",
       "</div>"
      ],
      "text/plain": [
       "   id  event_id           date_time_start             date_time_end\n",
       "0   1         1 2022-02-03 14:00:00+00:00 2022-02-03 17:00:00+00:00\n",
       "1   2         1 2022-02-04 14:00:00+00:00 2022-02-04 17:00:00+00:00\n",
       "2   3         1 2022-02-05 14:00:00+00:00 2022-02-05 17:00:00+00:00"
      ]
     },
     "execution_count": 3,
     "metadata": {},
     "output_type": "execute_result"
    }
   ],
   "source": [
    "# Generates test data: Not available 2022/2/3 9-5PM\n",
    "defaults = {\n",
    "    \"date_time_start\": FEB_3_9AM,\n",
    "    \"date_time_end\": FEB_3_5PM,\n",
    "    \"is_available\": False\n",
    "}\n",
    "\n",
    "user = User.objects.get(first_name=\"Andrew\")\n",
    "availability, __ = DateAvailability.objects.update_or_create(\n",
    "    user=user,\n",
    "    category=\"hockey_team\",\n",
    "    defaults=defaults\n",
    ")\n",
    "\n",
    "# Generates test data: Event times for 2022/2/3 2-5pm, 2022/2/4 2-5pm, 2022/2/5 2-5pm\n",
    "event, __ = Event.objects.get_or_create(\n",
    "    name=\"Hockey Party\",\n",
    "    host_member=user\n",
    ")\n",
    "proposed_times = [\n",
    "    (FEB_3_2PM, FEB_3_5PM),\n",
    "    (FEB_4_2PM, FEB_4_5PM),\n",
    "    (FEB_5_2PM, FEB_5_5PM),\n",
    "]\n",
    "for proposed_start, proposed_end in proposed_times:\n",
    "    EventTime.objects.get_or_create(\n",
    "        event=event,\n",
    "        date_time_start=proposed_start,\n",
    "        date_time_end=proposed_end,\n",
    "    )\n",
    "\n",
    "# Peeks\n",
    "event_time_df = pd.DataFrame(EventTime.objects.filter(event=event).values())\n",
    "event_time_df"
   ]
  },
  {
   "cell_type": "code",
   "execution_count": 4,
   "id": "a6d85fb8",
   "metadata": {},
   "outputs": [],
   "source": [
    "def get_all_event_participants(event):\n",
    "    \"\"\"\n",
    "    Returns all event members + host_member\n",
    "    \"\"\"\n",
    "    host_member = [event.host_member]\n",
    "    members = list(event.members.all())\n",
    "    participants = host_member + members\n",
    "    return participants\n",
    "\n",
    "\n",
    "def check_availabilities(event):\n",
    "    \"\"\"\n",
    "    Checks availability of all members + host against proposed times\n",
    "    \"\"\"\n",
    "    # Gets all members + host member\n",
    "    participants = get_all_event_participants(event)\n",
    "    \n",
    "    # Gets all availabilities\n",
    "    availabilities = Availability.objects.filter(user__in=participants)\n",
    "    \n",
    "    # Gets suggested event times\n",
    "    # Compares availabilities against suggested times\n",
    "    \n",
    "    return availabilities\n",
    "    \n",
    "availabilities = check_availabilities(event)[0]"
   ]
  },
  {
   "cell_type": "code",
   "execution_count": 7,
   "id": "0204f334",
   "metadata": {},
   "outputs": [
    {
     "ename": "AttributeError",
     "evalue": "'Availability' object has no attribute 'get_subclass'",
     "output_type": "error",
     "traceback": [
      "\u001b[0;31m---------------------------------------------------------------------------\u001b[0m",
      "\u001b[0;31mAttributeError\u001b[0m                            Traceback (most recent call last)",
      "\u001b[0;32m<ipython-input-7-7d99d2adeb15>\u001b[0m in \u001b[0;36m<module>\u001b[0;34m\u001b[0m\n\u001b[0;32m----> 1\u001b[0;31m \u001b[0mavailabilities\u001b[0m\u001b[0;34m.\u001b[0m\u001b[0mget_subclass\u001b[0m\u001b[0;34m(\u001b[0m\u001b[0;34m)\u001b[0m\u001b[0;34m.\u001b[0m\u001b[0mcheck_availability\u001b[0m\u001b[0;34m(\u001b[0m\u001b[0mFEB_3_2PM\u001b[0m\u001b[0;34m)\u001b[0m\u001b[0;34m\u001b[0m\u001b[0m\n\u001b[0m",
      "\u001b[0;31mAttributeError\u001b[0m: 'Availability' object has no attribute 'get_subclass'"
     ]
    }
   ],
   "source": [
    "availabilities.get_subclass().check_availability(FEB_3_2PM)"
   ]
  },
  {
   "cell_type": "code",
   "execution_count": 6,
   "id": "3768e0ba",
   "metadata": {},
   "outputs": [
    {
     "data": {
      "text/plain": [
       "datetime.datetime(2022, 2, 3, 14, 0, tzinfo=datetime.timezone.utc)"
      ]
     },
     "execution_count": 6,
     "metadata": {},
     "output_type": "execute_result"
    }
   ],
   "source": [
    "date_availability = DateAvailability.objects.all()[0]\n",
    "date_availability.check_availability(FEB_3_2PM)"
   ]
  },
  {
   "cell_type": "code",
   "execution_count": 16,
   "id": "5027322f",
   "metadata": {},
   "outputs": [
    {
     "data": {
      "text/plain": [
       "[availabilities.models.DateAvailability,\n",
       " availabilities.models.WeekAvailability]"
      ]
     },
     "execution_count": 16,
     "metadata": {},
     "output_type": "execute_result"
    }
   ],
   "source": [
    "Availability.__subclasses__()"
   ]
  },
  {
   "cell_type": "code",
   "execution_count": null,
   "id": "39f856ab",
   "metadata": {},
   "outputs": [],
   "source": []
  }
 ],
 "metadata": {
  "kernelspec": {
   "display_name": "Django Shell-Plus",
   "language": "python",
   "name": "django_extensions"
  },
  "language_info": {
   "codemirror_mode": {
    "name": "ipython",
    "version": 3
   },
   "file_extension": ".py",
   "mimetype": "text/x-python",
   "name": "python",
   "nbconvert_exporter": "python",
   "pygments_lexer": "ipython3",
   "version": "3.7.0"
  },
  "toc": {
   "base_numbering": 1,
   "nav_menu": {},
   "number_sections": true,
   "sideBar": true,
   "skip_h1_title": false,
   "title_cell": "Table of Contents",
   "title_sidebar": "Contents",
   "toc_cell": false,
   "toc_position": {},
   "toc_section_display": true,
   "toc_window_display": true
  }
 },
 "nbformat": 4,
 "nbformat_minor": 5
}
