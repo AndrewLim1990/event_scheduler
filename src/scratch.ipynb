{
 "cells": [
  {
   "cell_type": "markdown",
   "metadata": {},
   "source": [
    "# Event Scheduler\n",
    "\n",
    "The purpose of this notebook is to try ideas and keep notes related to developing an event scheduling bot"
   ]
  },
  {
   "cell_type": "code",
   "execution_count": 7,
   "metadata": {},
   "outputs": [],
   "source": [
    "mock_database = list()\n",
    "\n",
    "# Mock django models\n",
    "class MockModel:\n",
    "    def save(self):\n",
    "        mock_database.append(self)\n",
    "\n",
    "\n",
    "class Event(MockModel):\n",
    "    def __init__(self):\n",
    "        self.host_member = None\n",
    "        self.name = None\n",
    "        self.members = None\n",
    "        \n",
    "        \n",
    "class EventTime(MockModel):\n",
    "    def __init__(self):\n",
    "        self.date_time = None\n",
    "        self.start_time = None\n",
    "        self.end_time = None\n",
    "        self.event = None\n",
    "\n",
    "        \n",
    "class Availability(MockModel):\n",
    "    def __init__(self):\n",
    "        self.name = None\n",
    "        self.rule = None\n",
    "        \n",
    "        \n",
    "class MemberAvailibility(MockModel):\n",
    "    def __init__(self):\n",
    "        self.member = None\n",
    "        self.availability = None\n",
    "        self.event = None\n",
    "        self.category = None\n",
    "        self.date_start = None\n",
    "        self.date_end = None\n",
    "        self.time_start = None\n",
    "        self.time_end = None\n",
    "        self.is_avail = None\n",
    "        self.day_of_week = None\n",
    "    \n",
    "    "
   ]
  },
  {
   "cell_type": "code",
   "execution_count": 2,
   "metadata": {},
   "outputs": [],
   "source": [
    "# Creates an event\n",
    "def create_event(host_member, name):\n",
    "    \"\"\"\n",
    "    Initializes event\n",
    "    \"\"\"\n",
    "    event = Event()\n",
    "    event.host_member = host_member\n",
    "    event.name = name\n",
    "    event.save()\n",
    "    \n",
    "    return event\n",
    "\n",
    "# Saves initial set of dates from host\n",
    "def save_date_suggestions(event, dates):\n",
    "    \"\"\"\n",
    "    Saves list of dates suggested by user\n",
    "    \"\"\"\n",
    "    for date in dates:\n",
    "        event_time = EventTime()\n",
    "        event_time.event = event\n",
    "\n",
    "# Asks for contact info of who to invite\n",
    "\n",
    "# Asks invitees if dates work\n",
    "\n",
    "# Informs entire party of confirmed event\n",
    "\n",
    "# Asks for known unavailability dates\n",
    "\n",
    "# Asks for known availibilty dates\n",
    "\n",
    "# Gets list of \"stat\" holidays for given region"
   ]
  },
  {
   "cell_type": "code",
   "execution_count": null,
   "metadata": {},
   "outputs": [],
   "source": []
  }
 ],
 "metadata": {
  "kernelspec": {
   "display_name": "Python 3",
   "language": "python",
   "name": "python3"
  },
  "language_info": {
   "codemirror_mode": {
    "name": "ipython",
    "version": 3
   },
   "file_extension": ".py",
   "mimetype": "text/x-python",
   "name": "python",
   "nbconvert_exporter": "python",
   "pygments_lexer": "ipython3",
   "version": "3.7.0"
  },
  "toc": {
   "base_numbering": 1,
   "nav_menu": {},
   "number_sections": true,
   "sideBar": true,
   "skip_h1_title": false,
   "title_cell": "Table of Contents",
   "title_sidebar": "Contents",
   "toc_cell": false,
   "toc_position": {},
   "toc_section_display": true,
   "toc_window_display": true
  }
 },
 "nbformat": 4,
 "nbformat_minor": 4
}
